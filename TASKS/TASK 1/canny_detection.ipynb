{
 "cells": [
  {
   "cell_type": "markdown",
   "metadata": {},
   "source": [
    "# Edge detection Algorithms\n",
    "\n",
    "<div style=\"text-align: center;\">\n",
    "    Víctor Vega Sobral\n",
    "</div>\n",
    "\n",
    "In this notebook, I´ll implement the canny edge detection algorithm to three different images of Formula 1 cars. The content of the notebook will be: \n",
    "\n",
    "* Define the code of the algorithm.\n",
    "* Apply it to the three different images.\n",
    "* Experiment with the parameters to see the different results.\n",
    "* Analysis and conclussions with:\n",
    "    - Quality of detected edges.\n",
    "    - Computational performance (execution time).\n",
    "    - Sensitivity to noise.\n",
    "    - Effectiveness under different lightning conditions.\n",
    "    \n",
    "---"
   ]
  },
  {
   "cell_type": "code",
   "execution_count": 4,
   "metadata": {},
   "outputs": [],
   "source": [
    "__author__ = \"Víctor Vega Sobral\""
   ]
  },
  {
   "cell_type": "code",
   "execution_count": 5,
   "metadata": {},
   "outputs": [],
   "source": [
    "import cv2\n",
    "import numpy as np\n",
    "import matplotlib.pyplot as plt\n",
    "import time\n"
   ]
  },
  {
   "cell_type": "markdown",
   "metadata": {},
   "source": [
    "## Edge Detection Algorithms implementation: first steps\n",
    "\n",
    "First, we need to create a function to show the images on a Jupyter Notebook\n",
    "\n",
    "--- "
   ]
  },
  {
   "cell_type": "code",
   "execution_count": 6,
   "metadata": {},
   "outputs": [],
   "source": [
    "def show_image(title, image, cmap=None):\n",
    "    plt.figure(figsize=(6,6))\n",
    "    plt.title(title)\n",
    "    if cmap:\n",
    "        plt.imshow(image, cmap=cmap)\n",
    "    else:\n",
    "        # Covert from BGR to RGB\n",
    "        plt.imshow(cv2.cvtColor(image, cv2.COLOR_BGR2RGB))\n",
    "    plt.axis(\"off\")\n",
    "    plt.show()\n"
   ]
  },
  {
   "cell_type": "markdown",
   "metadata": {},
   "source": [
    "### Loading the images to our notebook\n",
    "\n",
    "---"
   ]
  },
  {
   "cell_type": "code",
   "execution_count": null,
   "metadata": {},
   "outputs": [],
   "source": [
    "# Paths to the 3 images \n",
    "\n",
    "image_paths = {\n",
    "    \"well_defined\": \"../TASK 1/edges.jpg\",       # defined edges\n",
    "    \"complex_texture\": \"../TASK 1/complex.jpg\", # complex textures\n",
    "    \"low_contrast\": \"../TASK 1/low_contrast.jpg\"          # low contrast\n",
    "}\n",
    "\n",
    "images = {}\n",
    "for key, path in image_paths.items():\n",
    "    img = cv2.imread(path)\n",
    "    if img is None:\n",
    "        print(f\"Error al cargar la imagen: {path}\")\n",
    "    else:\n",
    "        images[key] = img\n"
   ]
  },
  {
   "cell_type": "markdown",
   "metadata": {},
   "source": [
    "### Preprocessing the images\n",
    "\n",
    "We need to convert the images to grayscale and blur them. For this, I´ll use this functions:\n",
    "\n",
    "1. `cv2.COLOR_BGR2GRAY`: converts the image to grayscale.\n",
    "2. `cv2.GaussianBlur`: applies Gaussian blur.\n",
    "\n",
    "\n",
    "---"
   ]
  },
  {
   "cell_type": "code",
   "execution_count": null,
   "metadata": {},
   "outputs": [],
   "source": [
    "def preprocess(image, blur_kernel = (5,5)):\n",
    "    gray = cv2.cvtColor(image, cv2.COLOR_BGR2GRAY)\n",
    "    blurred = cv2.GaussianBlur(gray, blur_kernel, 0)\n",
    "    return gray, blurred"
   ]
  },
  {
   "cell_type": "markdown",
   "metadata": {},
   "source": [
    "### Edge Detection Implementations.\n",
    "\n",
    "In the following cells, three detection algorithms are implemented."
   ]
  },
  {
   "cell_type": "markdown",
   "metadata": {},
   "source": [
    "#### Canny edge"
   ]
  },
  {
   "cell_type": "code",
   "execution_count": null,
   "metadata": {},
   "outputs": [],
   "source": [
    "def canny_edge(image, lower = 10, upper = 200):\n",
    "    return cv2.Canny(image, lower, upper)"
   ]
  },
  {
   "cell_type": "markdown",
   "metadata": {},
   "source": [
    "#### Sobel edge"
   ]
  },
  {
   "cell_type": "code",
   "execution_count": null,
   "metadata": {},
   "outputs": [],
   "source": [
    "def sobel_edge(image, ksize = 5):\n",
    "    # We need to calculate the x and y derivatives\n",
    "    sobelx = cv2.Sobel(image, cv2.CV_64F, 1, 0, ksize= ksize)\n",
    "    sobely = cv2.Sovel(image, cv2.CV_64F, 0, 1 , ksize =ksize)\n",
    "    sobel = np.sqrt(sobelx**2 + sobely **2)\n",
    "\n",
    "    # Convert to 8 bits\n",
    "\n",
    "    sobel = np.uint8(np.clip(sobel, 0, 255))\n",
    "\n",
    "    return sobel"
   ]
  },
  {
   "cell_type": "markdown",
   "metadata": {},
   "source": [
    "#### Laplacian edge "
   ]
  },
  {
   "cell_type": "code",
   "execution_count": null,
   "metadata": {},
   "outputs": [],
   "source": [
    "def laplacian_edge(image, ksize = 3):\n",
    "    laplacian = cv2.Laplacian(image, cv2.CV_64F, ksize=ksize)\n",
    "    laplacian = np.uint8(np.clip(np.abs(laplacian), 0, 255))\n",
    "    return laplacian"
   ]
  },
  {
   "cell_type": "markdown",
   "metadata": {},
   "source": [
    "### Adjusting the parameters\n",
    "\n",
    "In this cell, I provide the code to change and experiment with different parameters.\n",
    "\n",
    "1. First parameters used: \n",
    "\n",
    "    ``python\n",
    "    canny_params = {\"lower\": 30, \"upper\": 150}\n",
    "    sobel_params = {\"ksize\": 5}\n",
    "    laplacian_params = {\"ksize\": 3}\n",
    "    ``\n",
    "\n",
    "\n",
    "\n",
    "---"
   ]
  },
  {
   "cell_type": "code",
   "execution_count": 10,
   "metadata": {},
   "outputs": [],
   "source": [
    "# Adjustable parameters\n",
    "canny_params = {\"lower\": 30, \"upper\": 150}\n",
    "sobel_params = {\"ksize\": 5}\n",
    "laplacian_params = {\"ksize\": 3}"
   ]
  },
  {
   "cell_type": "markdown",
   "metadata": {},
   "source": [
    "### Preprocessing the images\n",
    "\n",
    "---"
   ]
  },
  {
   "cell_type": "code",
   "execution_count": null,
   "metadata": {},
   "outputs": [],
   "source": [
    "image_key = \"well_defined\"\n",
    "orig = images[image_key]\n",
    "gray, blurred = preprocess(orig)"
   ]
  },
  {
   "cell_type": "code",
   "execution_count": null,
   "metadata": {},
   "outputs": [],
   "source": [
    "image_key = \"complex_texture\"\n",
    "orig = images[image_key]\n",
    "gray, blurred = preprocess(orig)"
   ]
  },
  {
   "cell_type": "code",
   "execution_count": null,
   "metadata": {},
   "outputs": [],
   "source": [
    "image_key = \"low_contrast\"\n",
    "orig = images[image_key]\n",
    "gray, blurred = preprocess(orig)"
   ]
  },
  {
   "cell_type": "markdown",
   "metadata": {},
   "source": [
    "### Applying the algorithms\n",
    "\n",
    "---"
   ]
  },
  {
   "cell_type": "markdown",
   "metadata": {},
   "source": [
    "#### Canny"
   ]
  },
  {
   "cell_type": "code",
   "execution_count": null,
   "metadata": {},
   "outputs": [],
   "source": [
    "edges_canny = canny_edge(blurred, **canny_params)"
   ]
  },
  {
   "cell_type": "markdown",
   "metadata": {},
   "source": [
    "#### Sobel\n"
   ]
  },
  {
   "cell_type": "code",
   "execution_count": null,
   "metadata": {},
   "outputs": [],
   "source": [
    "edges_sobel = sobel_edge(blurred, **sobel_params)"
   ]
  },
  {
   "cell_type": "markdown",
   "metadata": {},
   "source": [
    "#### Laplacian"
   ]
  },
  {
   "cell_type": "code",
   "execution_count": null,
   "metadata": {},
   "outputs": [],
   "source": [
    "edges_laplacian = laplacian_edge(blurred, **laplacian_params)"
   ]
  },
  {
   "cell_type": "markdown",
   "metadata": {},
   "source": [
    "## Results\n",
    "\n",
    "---"
   ]
  },
  {
   "cell_type": "code",
   "execution_count": null,
   "metadata": {},
   "outputs": [],
   "source": [
    "show_image(\"Original images\", orig)\n"
   ]
  },
  {
   "cell_type": "code",
   "execution_count": null,
   "metadata": {},
   "outputs": [],
   "source": [
    "show_image(\"Canny\", edges_canny, cmap=\"gray\")\n"
   ]
  },
  {
   "cell_type": "code",
   "execution_count": null,
   "metadata": {},
   "outputs": [],
   "source": [
    "show_image(\"Sobel\", edges_sobel, cmap=\"gray\")\n"
   ]
  },
  {
   "cell_type": "code",
   "execution_count": null,
   "metadata": {},
   "outputs": [],
   "source": [
    "show_image(\"Laplacian\", edges_laplacian, cmap=\"gray\")"
   ]
  }
 ],
 "metadata": {
  "kernelspec": {
   "display_name": "CV_env",
   "language": "python",
   "name": "python3"
  },
  "language_info": {
   "codemirror_mode": {
    "name": "ipython",
    "version": 3
   },
   "file_extension": ".py",
   "mimetype": "text/x-python",
   "name": "python",
   "nbconvert_exporter": "python",
   "pygments_lexer": "ipython3",
   "version": "3.11.11"
  }
 },
 "nbformat": 4,
 "nbformat_minor": 2
}
